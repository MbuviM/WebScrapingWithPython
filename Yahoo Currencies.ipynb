{
 "cells": [
  {
   "cell_type": "code",
   "execution_count": 63,
   "outputs": [],
   "source": [
    "import pandas as pd\n",
    "from bs4 import BeautifulSoup\n",
    "import requests"
   ],
   "metadata": {
    "collapsed": false,
    "pycharm": {
     "name": "#%%\n"
    }
   }
  },
  {
   "cell_type": "code",
   "execution_count": 64,
   "outputs": [],
   "source": [
    "# Using requests to download the web page and extract the text\n",
    "url = \"https://finance.yahoo.com/currencies\"\n",
    "my_url = requests.get(url).text"
   ],
   "metadata": {
    "collapsed": false,
    "pycharm": {
     "name": "#%%\n"
    }
   }
  },
  {
   "cell_type": "code",
   "execution_count": 65,
   "outputs": [],
   "source": [
    "#Parsing the text into html using BeautifulSoup\n",
    "soup = BeautifulSoup(my_url, 'html5lib')"
   ],
   "metadata": {
    "collapsed": false,
    "pycharm": {
     "name": "#%%\n"
    }
   }
  },
  {
   "cell_type": "code",
   "execution_count": null,
   "outputs": [],
   "source": [
    "#Turning the html table to Pandas DataFrame\n",
    "currencies_data = pd.DataFrame(columns = [\"Symbol\", \"Name\", \"Last_price\", \"Change\", \"% Change\"])\n",
    "\n",
    "# First we isolate the body that contains all the information\n",
    "for row in soup.find(\"tbody\").find_all('tr'):\n",
    "    col = row.find_all(\"td\")\n",
    "    Symbol = col[0].text\n",
    "    Name = col[1].text\n",
    "    Last_price = col[2].text\n",
    "    Change = col[3].text\n",
    "    Percentage_Change = col[4].text\n",
    "#Finally we append the data of each row to the table\n",
    "    currencies_data = currencies_data.append({\"Symbol\" : Symbol, \"Name\" : Name, \"Last_price\" : Last_price, \"Change\" : Change, \"% Change\" : Percentage_Change} , ignore_index = True)"
   ],
   "metadata": {
    "collapsed": false,
    "pycharm": {
     "name": "#%%\n",
     "is_executing": true
    }
   }
  },
  {
   "cell_type": "code",
   "execution_count": 62,
   "outputs": [
    {
     "data": {
      "text/plain": "     Symbol     Name Last_price   Change % Change\n0  EURUSD=X  EUR/USD     1.0151  -0.0074   -0.72%\n1     JPY=X  USD/JPY   136.4580  -0.2080   -0.15%\n2  GBPUSD=X  GBP/USD     1.2015  -0.0031   -0.26%\n3  AUDUSD=X  AUD/USD     0.6946  -0.0013   -0.18%\n4  NZDUSD=X  NZD/USD     0.6243  -0.0020   -0.32%",
      "text/html": "<div>\n<style scoped>\n    .dataframe tbody tr th:only-of-type {\n        vertical-align: middle;\n    }\n\n    .dataframe tbody tr th {\n        vertical-align: top;\n    }\n\n    .dataframe thead th {\n        text-align: right;\n    }\n</style>\n<table border=\"1\" class=\"dataframe\">\n  <thead>\n    <tr style=\"text-align: right;\">\n      <th></th>\n      <th>Symbol</th>\n      <th>Name</th>\n      <th>Last_price</th>\n      <th>Change</th>\n      <th>% Change</th>\n    </tr>\n  </thead>\n  <tbody>\n    <tr>\n      <th>0</th>\n      <td>EURUSD=X</td>\n      <td>EUR/USD</td>\n      <td>1.0151</td>\n      <td>-0.0074</td>\n      <td>-0.72%</td>\n    </tr>\n    <tr>\n      <th>1</th>\n      <td>JPY=X</td>\n      <td>USD/JPY</td>\n      <td>136.4580</td>\n      <td>-0.2080</td>\n      <td>-0.15%</td>\n    </tr>\n    <tr>\n      <th>2</th>\n      <td>GBPUSD=X</td>\n      <td>GBP/USD</td>\n      <td>1.2015</td>\n      <td>-0.0031</td>\n      <td>-0.26%</td>\n    </tr>\n    <tr>\n      <th>3</th>\n      <td>AUDUSD=X</td>\n      <td>AUD/USD</td>\n      <td>0.6946</td>\n      <td>-0.0013</td>\n      <td>-0.18%</td>\n    </tr>\n    <tr>\n      <th>4</th>\n      <td>NZDUSD=X</td>\n      <td>NZD/USD</td>\n      <td>0.6243</td>\n      <td>-0.0020</td>\n      <td>-0.32%</td>\n    </tr>\n  </tbody>\n</table>\n</div>"
     },
     "execution_count": 62,
     "metadata": {},
     "output_type": "execute_result"
    }
   ],
   "source": [
    "#Printing the first five rows of the DataFrame\n",
    "currencies_data.head()"
   ],
   "metadata": {
    "collapsed": false,
    "pycharm": {
     "name": "#%%\n"
    }
   }
  },
  {
   "cell_type": "code",
   "execution_count": 61,
   "outputs": [
    {
     "name": "stdout",
     "output_type": "stream",
     "text": [
      "      Symbol     Name   Last_price   Change % Change\n",
      "0   EURUSD=X  EUR/USD       1.0151  -0.0074   -0.72%\n",
      "1      JPY=X  USD/JPY     136.4580  -0.2080   -0.15%\n",
      "2   GBPUSD=X  GBP/USD       1.2015  -0.0031   -0.26%\n",
      "3   AUDUSD=X  AUD/USD       0.6946  -0.0013   -0.18%\n",
      "4   NZDUSD=X  NZD/USD       0.6243  -0.0020   -0.32%\n",
      "5   EURJPY=X  EUR/JPY     138.4520  -1.2410   -0.89%\n",
      "6   GBPJPY=X  GBP/JPY     163.9150  -0.6730   -0.41%\n",
      "7   EURGBP=X  EUR/GBP       0.8446  -0.0037   -0.43%\n",
      "8   EURCAD=X  EUR/CAD       1.3055  -0.0074   -0.56%\n",
      "9   EURSEK=X  EUR/SEK      10.4451  +0.0346   +0.33%\n",
      "10  EURCHF=X  EUR/CHF       0.9773  -0.0084   -0.85%\n",
      "11  EURHUF=X  EUR/HUF     399.3890  +0.0690   +0.02%\n",
      "12  EURJPY=X  EUR/JPY     138.4520  -1.2410   -0.89%\n",
      "13     CNY=X  USD/CNY       6.7605  +0.0096   +0.14%\n",
      "14     HKD=X  USD/HKD       7.8490  +0.0002   +0.00%\n",
      "15     SGD=X  USD/SGD       1.3881  +0.0019   +0.13%\n",
      "16     INR=X  USD/INR      79.7480  +0.0570   +0.07%\n",
      "17     MXN=X  USD/MXN      20.4410  -0.0030   -0.01%\n",
      "18     PHP=X  USD/PHP      55.3900  -0.3900   -0.70%\n",
      "19     IDR=X  USD/IDR  14,990.0000   0.0000    0.00%\n",
      "20     THB=X  USD/THB      36.6700  +0.0350   +0.10%\n",
      "21     MYR=X  USD/MYR       4.4540  +0.0030   +0.07%\n",
      "22     ZAR=X  USD/ZAR      16.8798  +0.1004   +0.60%\n",
      "23     RUB=X  USD/RUB      60.0000  +1.5061   +2.57%\n"
     ]
    }
   ],
   "source": [
    "#Printing out the whole data frame\n",
    "with pd.option_context('display.max_rows', None, 'display.max_columns', None) :\n",
    "    print(currencies_data)"
   ],
   "metadata": {
    "collapsed": false,
    "pycharm": {
     "name": "#%%\n"
    }
   }
  }
 ],
 "metadata": {
  "kernelspec": {
   "display_name": "Python 3",
   "language": "python",
   "name": "python3"
  },
  "language_info": {
   "codemirror_mode": {
    "name": "ipython",
    "version": 2
   },
   "file_extension": ".py",
   "mimetype": "text/x-python",
   "name": "python",
   "nbconvert_exporter": "python",
   "pygments_lexer": "ipython2",
   "version": "2.7.6"
  }
 },
 "nbformat": 4,
 "nbformat_minor": 0
}